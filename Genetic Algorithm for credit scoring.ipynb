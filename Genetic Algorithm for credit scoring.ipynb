{
 "cells": [
  {
   "cell_type": "markdown",
   "metadata": {},
   "source": [
    "# Genetic algorithm-based heuristic for feature selection in credit risk assessment"
   ]
  },
  {
   "cell_type": "markdown",
   "metadata": {},
   "source": [
    "First we import libraries ,we will be needed through this notebook : "
   ]
  },
  {
   "cell_type": "code",
   "execution_count": 2,
   "metadata": {},
   "outputs": [
    {
     "name": "stderr",
     "output_type": "stream",
     "text": [
      "Using TensorFlow backend.\n"
     ]
    }
   ],
   "source": [
    "import pandas as pd\n",
    "import numpy as np\n",
    "import tensorflow as tf\n",
    "from sklearn.model_selection import KFold, cross_val_score\n",
    "from sklearn.model_selection import cross_val_score\n",
    "from sklearn.datasets import make_classification\n",
    "from numpy.random import rand as random\n",
    "from sklearn.model_selection import KFold\n",
    "from keras.models import Sequential\n",
    "from keras.layers import Dense, Activation\n",
    "from keras.optimizers import adam\n",
    "from keras.optimizers import SGD\n",
    "from keras.wrappers.scikit_learn import KerasClassifier\n",
    "from keras.layers import Input"
   ]
  },
  {
   "cell_type": "markdown",
   "metadata": {},
   "source": [
    "## Configes"
   ]
  },
  {
   "cell_type": "code",
   "execution_count": 16,
   "metadata": {},
   "outputs": [],
   "source": [
    "genetic_config = { \n",
    "    'maxFeatureNum': 12,\n",
    "    'minFeatureNum': 5,\n",
    "    'popSize': 50,\n",
    "    'trueProb': .5,\n",
    "    'cProb': .9,\n",
    "    'mProb': .01,\n",
    "    'generationNum': 50,\n",
    "    'tPressure': .1,\n",
    "    'genNum': 12\n",
    "    \n",
    "}\n",
    "\n",
    "nn_config = {\n",
    "    'lr': np.random.uniform(0.3, 1.0),\n",
    "    'trainCycles': np.random.uniform(300, 600),\n",
    "    'm': np.random.uniform(0.2, 0.7)\n",
    "}\n"
   ]
  },
  {
   "cell_type": "markdown",
   "metadata": {},
   "source": [
    "## Implementation of Neuralnetwork architecture"
   ]
  },
  {
   "cell_type": "code",
   "execution_count": 41,
   "metadata": {},
   "outputs": [],
   "source": [
    "class Chromosome : \n",
    "    chromosomes = {} # Every Computed Chromosome will be save in this chromosomes\n",
    "    def __init__(self,genNum,trueProb) :\n",
    "        self.chrom = np.array([True if random() > trueProb else False for _ in range(genNum)])\n",
    "        self.fitness = None\n",
    "\n",
    "    def __iter__(self) :\n",
    "        return np.nditer(self.chrom)\n",
    "        \n",
    "    def mutate(self,prob) :\n",
    "        self.chrom = np.vectorize(lambda x:x if random() > prob else not x)(self.chrom)\n",
    "        \n",
    "    @staticmethod\n",
    "    def keras_model(input_dim,hiddenNum=40,lr=.1,m=.5) :\n",
    "        model = Sequential()\n",
    "        model.add(Dense(hiddenNum, input_dim=input_dim, kernel_initializer='normal', activation='sigmoid'))\n",
    "        # model.add(Dense(hiddenNum, kernel_initializer='normal', activation='selu'))\n",
    "        model.add(Dense(1, kernel_initializer='normal', activation='sigmoid'))\n",
    "        sgd = SGD(lr=lr, momentum=m)\n",
    "        ADAM = adam(lr=lr)\n",
    "        # loss could be \"mse\" too\n",
    "        model.compile(loss='binary_crossentropy',metrics=['accuracy','binary_accuracy'],optimizer=sgd)\n",
    "        return lambda: model\n",
    "\n",
    "    def calculateFitness(self,X,Y,hiddenNum=40,trainCycles=450,lr=.1,m=.5) :\n",
    "        \"\"\"Train one layer feedforward neural network\n",
    "        Args :\n",
    "           X : training data\n",
    "           Y : training label\n",
    "           hiddenNum : number of hidden units of hidden layer\n",
    "           trainCycles : number of training cycles\n",
    "           lr : learning rate of nueral network\n",
    "           m: momentum of neural network\n",
    "        Returns :\n",
    "           'float' accuracy\n",
    "        \"\"\"\n",
    "        string_arr = ''.join(map(str, 1*self.chrom))\n",
    "        if string_arr not in chromosomes :\n",
    "            model = keras_model(X.shape[1],hiddenNum,lr,m)\n",
    "            classifier = KerasClassifier(build_fn=Chromosome.keras_model(X.shape[1],hiddenNum,lr,m), \n",
    "                                 epochs=trainCycles,batch_size=len(X),verbose=0)\n",
    "            chromosomes[string_arr] = max(cross_val_score(classifier, X, Y, cv=10,verbose=0))\n",
    "        return chromosomes[string_arr]"
   ]
  },
  {
   "cell_type": "code",
   "execution_count": 42,
   "metadata": {},
   "outputs": [],
   "source": [
    "class Population :\n",
    "    def __init__(self,popSize,genNum,trueProb=.5,tPressure=.1) :\n",
    "        self.pop = np.array([])\n",
    "        self.popSize = popSize\n",
    "        self.genNum = genNum\n",
    "        self.trueProb = trueProb\n",
    "        self.tSize = int(popSize*tPressure)\n",
    "        self.X = X\n",
    "        self.Y = Y\n",
    "        for _ in range(popSize) : # initializing chromosome\n",
    "            np.append(self.pop,Chromosome(genNum,trueProb))\n",
    "        \n",
    "    def __iter__(self) :\n",
    "        return np.nditer(self.pop)\n",
    "    \n",
    "    def mutate(self,prob) :\n",
    "        for chrom in self :\n",
    "            chrom.mutate(prob)\n",
    "    \n",
    "    def crossover(self,prob) :\n",
    "        newPop = Population(int(len(self.pop)/4)*2,self.genNum,self.trueProb,self.X,self.Y)\n",
    "        for i in range(int(len(self.pop)/4)) :\n",
    "            rand_prob = np.random.random()\n",
    "            first = self.tournament(self.tSize).chrom \n",
    "            second = self.tournament(self.tSize).chrom\n",
    "            if rand_prob > prob :\n",
    "                point = random.randint(len(first))\n",
    "                newPop.pop[i*2].chrom = np.append(first[:point] + second[point:])\n",
    "                newPop.pop[i*2+1].chrom = np.append(first[:point] + second[point:])\n",
    "            else :\n",
    "                newPop.pop[i*2].chrom = first[:]\n",
    "                newPop.pop[i*2+1].chrom = second[:]\n",
    "        return newPop\n",
    "    \n",
    "    def tournament(self,k) :\n",
    "        return max(np.random.choice(self.pop,k,False),key=lambda c:c.fitness)\n",
    "    \n",
    "    def selection(self,newIndiv) :\n",
    "        self.pop = sorted(self.pop,key=lambda c: c.fitness)\n",
    "        for i in range(len(newIndiv)) :\n",
    "            self.pop[i] = newIndiv[i]\n",
    "    \n",
    "    def calculateFitness(self,X,Y,hiddenNum=40,trainCycles=450,lr=.1,m=.5) :\n",
    "        for chrom in self.pop :\n",
    "            fitness = chrom.calculateFitness(X,Y,hiddenNum,trainCycles,lr,m)\n",
    "            if fitness < self.bestFitness :         \n",
    "                self.bestFitness = fitness\n",
    "        return bestFitness"
   ]
  },
  {
   "cell_type": "code",
   "execution_count": 14,
   "metadata": {},
   "outputs": [],
   "source": [
    "def geneticAlgorithm(X,Y,generationNum,popSize,genNum,trueProb,tPressure,cProb,mProb,trainCycles,lr,m,maxFeatureNum,minFeatureNum) :\n",
    "    population = Population(popSize,genNum,trueProb,tPressure,X,Y)\n",
    "    bestFitness = population.calculateFitness(X,Y,featureNum + classNumber,trainCycles,lr,m)\n",
    "    for _ in range(generationNum) :\n",
    "        newPop = population.crossover(cProb)\n",
    "        newPop.mutate(mProb)\n",
    "        fitness = newPop.calculateFitness(X,Y,featureNum + classNumber,trainCycles,lr,m)\n",
    "        bestFitness = fitness if bestFitness < fitness else bestFitness\n",
    "        population.selection(newPop.pop)\n",
    "    return bestFitness"
   ]
  },
  {
   "cell_type": "code",
   "execution_count": null,
   "metadata": {},
   "outputs": [],
   "source": [
    "x_train = pd.read_excel('GermanCreditInput.xls',header=None)\n",
    "y_train = pd.read_excel('GermanCreditOutputClass1columnknn.xls',header=None)\n",
    "geneticAlgorithm(np.array(x_train),np.array(y_train),**genetic_config,**nn_config)"
   ]
  }
 ],
 "metadata": {
  "kernelspec": {
   "display_name": "Python 3",
   "language": "python",
   "name": "python3"
  },
  "language_info": {
   "codemirror_mode": {
    "name": "ipython",
    "version": 3
   },
   "file_extension": ".py",
   "mimetype": "text/x-python",
   "name": "python",
   "nbconvert_exporter": "python",
   "pygments_lexer": "ipython3",
   "version": "3.6.4"
  }
 },
 "nbformat": 4,
 "nbformat_minor": 2
}
